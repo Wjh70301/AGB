{
  "nbformat": 4,
  "nbformat_minor": 0,
  "metadata": {
    "colab": {
      "name": "quant_quiz.ipynb",
      "provenance": [],
      "include_colab_link": true
    },
    "kernelspec": {
      "name": "python3",
      "display_name": "Python 3"
    }
  },
  "cells": [
    {
      "cell_type": "markdown",
      "metadata": {
        "id": "view-in-github",
        "colab_type": "text"
      },
      "source": [
        "<a href=\"https://colab.research.google.com/github/Wjh70301/AGB/blob/master/quant_quiz.ipynb\" target=\"_parent\"><img src=\"https://colab.research.google.com/assets/colab-badge.svg\" alt=\"Open In Colab\"/></a>"
      ]
    },
    {
      "cell_type": "code",
      "metadata": {
        "id": "na-zPuEgdN23",
        "colab_type": "code",
        "colab": {}
      },
      "source": [
        "import numpy as np"
      ],
      "execution_count": 0,
      "outputs": []
    },
    {
      "cell_type": "code",
      "metadata": {
        "id": "KztPumAPdRfK",
        "colab_type": "code",
        "colab": {
          "base_uri": "https://localhost:8080/",
          "height": 34
        },
        "outputId": "9202c4fa-cf4e-4eb1-acd2-ff85edebbc3e"
      },
      "source": [
        "# Nine fair coins are tossed, what is the probability of an odd number of heads landing?  \n",
        "X = np.random.randn(100000, 9) > 0\n",
        "X = np.sum(X, axis=1)\n",
        "np.mean(X % 2)"
      ],
      "execution_count": 17,
      "outputs": [
        {
          "output_type": "execute_result",
          "data": {
            "text/plain": [
              "0.49909"
            ]
          },
          "metadata": {
            "tags": []
          },
          "execution_count": 17
        }
      ]
    },
    {
      "cell_type": "code",
      "metadata": {
        "id": "6e-Qxp-1eikO",
        "colab_type": "code",
        "colab": {}
      },
      "source": [
        "def choose(n, k):\n",
        "    \"\"\"\n",
        "    A fast way to calculate binomial coefficients by Andrew Dalke (contrib).\n",
        "    \"\"\"\n",
        "    if 0 <= k <= n:\n",
        "        ntok = 1\n",
        "        ktok = 1\n",
        "        for t in np.arange(1, min(k, n - k) + 1):\n",
        "            ntok *= n\n",
        "            ktok *= t\n",
        "            n -= 1\n",
        "        return ntok // ktok\n",
        "    else:\n",
        "        return 0"
      ],
      "execution_count": 0,
      "outputs": []
    },
    {
      "cell_type": "code",
      "metadata": {
        "id": "m21ykmzyekA7",
        "colab_type": "code",
        "colab": {
          "base_uri": "https://localhost:8080/",
          "height": 34
        },
        "outputId": "fbb62da6-8876-465e-fda9-0d1cb30e024f"
      },
      "source": [
        "odds = [1, 3, 5, 7, 9]\n",
        "sum(choose(9, i) / 2**9 for i in odds)"
      ],
      "execution_count": 18,
      "outputs": [
        {
          "output_type": "execute_result",
          "data": {
            "text/plain": [
              "0.5"
            ]
          },
          "metadata": {
            "tags": []
          },
          "execution_count": 18
        }
      ]
    },
    {
      "cell_type": "code",
      "metadata": {
        "id": "Azn6xSs4e44X",
        "colab_type": "code",
        "colab": {}
      },
      "source": [
        ""
      ],
      "execution_count": 0,
      "outputs": []
    }
  ]
}