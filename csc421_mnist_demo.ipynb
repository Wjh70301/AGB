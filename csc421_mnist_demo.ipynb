{
  "nbformat": 4,
  "nbformat_minor": 0,
  "metadata": {
    "colab": {
      "name": "csc421_mnist_demo.ipynb",
      "version": "0.3.2",
      "provenance": [],
      "include_colab_link": true
    },
    "kernelspec": {
      "name": "python3",
      "display_name": "Python 3"
    }
  },
  "cells": [
    {
      "cell_type": "markdown",
      "metadata": {
        "id": "view-in-github",
        "colab_type": "text"
      },
      "source": [
        "<a href=\"https://colab.research.google.com/github/Wjh70301/AGB/blob/master/csc421_mnist_demo.ipynb\" target=\"_parent\"><img src=\"https://colab.research.google.com/assets/colab-badge.svg\" alt=\"Open In Colab\"/></a>"
      ]
    },
    {
      "cell_type": "code",
      "metadata": {
        "id": "YglLAbN2KF-O",
        "colab_type": "code",
        "colab": {}
      },
      "source": [
        "import gzip\n",
        "import sys\n",
        "import struct\n",
        "import urllib.request\n",
        "import numpy as np\n",
        "\n",
        "def read_image(fi):\n",
        "    magic, n, rows, columns = struct.unpack(\">IIII\", fi.read(16))\n",
        "    assert magic == 0x00000803\n",
        "    assert rows == 28\n",
        "    assert columns == 28\n",
        "    rawbuffer = fi.read()\n",
        "    assert len(rawbuffer) == n * rows * columns\n",
        "    rawdata = np.frombuffer(rawbuffer, dtype='>u1', count=n*rows*columns)\n",
        "    return rawdata.reshape(n, rows, columns).astype(np.float32) / 255.0\n",
        "\n",
        "def read_label(fi):\n",
        "    magic, n = struct.unpack(\">II\", fi.read(8))\n",
        "    assert magic == 0x00000801\n",
        "    rawbuffer = fi.read()\n",
        "    assert len(rawbuffer) == n\n",
        "    return np.frombuffer(rawbuffer, dtype='>u1', count=n)\n",
        "\n",
        "def openurl_gzip(url):\n",
        "    request = urllib.request.Request(\n",
        "        url,\n",
        "        headers={\n",
        "            \"Accept-Encoding\": \"gzip\",\n",
        "            \"User-Agent\": \"Mozilla/5.0 (X11; U; Linux i686) Gecko/20071127 Firefox/2.0.0.11\", \n",
        "        })\n",
        "    response = urllib.request.urlopen(request)\n",
        "    return gzip.GzipFile(fileobj=response, mode='rb')"
      ],
      "execution_count": 0,
      "outputs": []
    },
    {
      "cell_type": "code",
      "metadata": {
        "id": "oMyuK7WiLg4I",
        "colab_type": "code",
        "colab": {}
      },
      "source": [
        ""
      ],
      "execution_count": 0,
      "outputs": []
    },
    {
      "cell_type": "code",
      "metadata": {
        "id": "Rx8fs_uSaAIL",
        "colab_type": "code",
        "colab": {}
      },
      "source": [
        "import math\n",
        "import matplotlib.pyplot as plt\n",
        "import numpy as np\n",
        "import seaborn as sns\n",
        "\n",
        "def plot_weights(weights):\n",
        "    w = weights\n",
        "    w = w.reshape(w.shape[0], math.ceil(math.sqrt(w.shape[1])), \n",
        "                              math.ceil(math.sqrt(w.shape[1])))\n",
        "\n",
        "    # Get the lowest and highest values for the weights.\n",
        "    # This is used to correct the colour intensity across\n",
        "    # the images so they can be compared with each other.\n",
        "    w_min = np.min(w)\n",
        "    w_max = np.max(w)\n",
        "\n",
        "    # Number of filters used in the fully connected layer.\n",
        "    num_filters = w.shape[0]\n",
        "\n",
        "    # Number of grids to plot.\n",
        "    # Rounded-up, square-root of the number of filters.\n",
        "    num_grids = math.ceil(math.sqrt(num_filters))\n",
        "    \n",
        "    # Create figure with a grid of sub-plots.\n",
        "    fig, axes = plt.subplots(num_grids, num_grids)\n",
        "\n",
        "    # Plot all the filter-weights.\n",
        "    for i, ax in enumerate(axes.flat):\n",
        "        # Only plot the valid filter-weights.\n",
        "        if i<num_filters:\n",
        "            # Get the weights for the i'th filter of the input.\n",
        "            img = w[i, :, :]\n",
        "\n",
        "            # Plot image.\n",
        "            #ax.imshow(img, vmin=w_min, vmax=w_max,\n",
        "            #          interpolation='nearest', cmap='gray')\n",
        "            ax.imshow(img, vmin=np.min(img), vmax=np.max(img),\n",
        "                      interpolation='nearest', cmap='gray')\n",
        "        \n",
        "        # Remove ticks from the plot.\n",
        "        ax.set_xticks([])\n",
        "        ax.set_yticks([])\n",
        "    \n",
        "    # Ensure the plot is shown correctly with multiple plots\n",
        "    # in a single Notebook cell.\n",
        "    plt.show()\n",
        "    \n",
        "def plot_single_training_example(i):\n",
        "    data = np.load('mnist.npz')\n",
        "    image = data['train_x'][i]\n",
        "    label = data['train_y'][i]\n",
        "\n",
        "    print(label)\n",
        "    f, ax = plt.subplots(figsize=(12, 12))\n",
        "    sns.heatmap(image, annot=True, fmt='.1f', square=True, cmap=\"YlGnBu\")\n",
        "    plt.show()"
      ],
      "execution_count": 0,
      "outputs": []
    }
  ]
}